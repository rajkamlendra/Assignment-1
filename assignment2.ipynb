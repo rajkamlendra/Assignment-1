{
  "nbformat": 4,
  "nbformat_minor": 0,
  "metadata": {
    "colab": {
      "name": "Untitled4.ipynb",
      "provenance": [],
      "authorship_tag": "ABX9TyOcAreVSTmdAlnl+C7a91v5",
      "include_colab_link": true
    },
    "kernelspec": {
      "name": "python3",
      "display_name": "Python 3"
    },
    "language_info": {
      "name": "python"
    }
  },
  "cells": [
    {
      "cell_type": "markdown",
      "metadata": {
        "id": "view-in-github",
        "colab_type": "text"
      },
      "source": [
        "<a href=\"https://colab.research.google.com/github/rajkamlendra/Assignment-1/blob/main/assignment2.ipynb\" target=\"_parent\"><img src=\"https://colab.research.google.com/assets/colab-badge.svg\" alt=\"Open In Colab\"/></a>"
      ]
    },
    {
      "cell_type": "code",
      "metadata": {
        "id": "wWHATlq7WmXg"
      },
      "source": [
        "import matplotlib.pyplot as plt\n",
        "import numpy as np\n",
        "import pandas as pd\n",
        "%matplotlib inline\n",
        "import seaborn as sns\n",
        "from numpy.random import randn, randint, uniform, sample"
      ],
      "execution_count": 1,
      "outputs": []
    },
    {
      "cell_type": "code",
      "metadata": {
        "colab": {
          "base_uri": "https://localhost:8080/",
          "height": 359
        },
        "id": "7QNIxo5nWqzk",
        "outputId": "c56e9354-5ef5-4742-f6cc-dad5f8540c53"
      },
      "source": [
        "df = pd.DataFrame(randn(10,4),columns=['a','b','c','d'])\n",
        "df"
      ],
      "execution_count": 2,
      "outputs": [
        {
          "output_type": "execute_result",
          "data": {
            "text/html": [
              "<div>\n",
              "<style scoped>\n",
              "    .dataframe tbody tr th:only-of-type {\n",
              "        vertical-align: middle;\n",
              "    }\n",
              "\n",
              "    .dataframe tbody tr th {\n",
              "        vertical-align: top;\n",
              "    }\n",
              "\n",
              "    .dataframe thead th {\n",
              "        text-align: right;\n",
              "    }\n",
              "</style>\n",
              "<table border=\"1\" class=\"dataframe\">\n",
              "  <thead>\n",
              "    <tr style=\"text-align: right;\">\n",
              "      <th></th>\n",
              "      <th>a</th>\n",
              "      <th>b</th>\n",
              "      <th>c</th>\n",
              "      <th>d</th>\n",
              "    </tr>\n",
              "  </thead>\n",
              "  <tbody>\n",
              "    <tr>\n",
              "      <th>0</th>\n",
              "      <td>0.491140</td>\n",
              "      <td>0.081829</td>\n",
              "      <td>-0.565545</td>\n",
              "      <td>-1.851094</td>\n",
              "    </tr>\n",
              "    <tr>\n",
              "      <th>1</th>\n",
              "      <td>-0.709218</td>\n",
              "      <td>0.160917</td>\n",
              "      <td>0.125136</td>\n",
              "      <td>0.556121</td>\n",
              "    </tr>\n",
              "    <tr>\n",
              "      <th>2</th>\n",
              "      <td>-1.341324</td>\n",
              "      <td>0.828684</td>\n",
              "      <td>0.673263</td>\n",
              "      <td>0.131569</td>\n",
              "    </tr>\n",
              "    <tr>\n",
              "      <th>3</th>\n",
              "      <td>1.221927</td>\n",
              "      <td>0.339438</td>\n",
              "      <td>-1.317098</td>\n",
              "      <td>0.052887</td>\n",
              "    </tr>\n",
              "    <tr>\n",
              "      <th>4</th>\n",
              "      <td>-0.115626</td>\n",
              "      <td>0.404398</td>\n",
              "      <td>-1.084968</td>\n",
              "      <td>-0.586258</td>\n",
              "    </tr>\n",
              "    <tr>\n",
              "      <th>5</th>\n",
              "      <td>0.694943</td>\n",
              "      <td>-1.718703</td>\n",
              "      <td>-1.151380</td>\n",
              "      <td>-0.168828</td>\n",
              "    </tr>\n",
              "    <tr>\n",
              "      <th>6</th>\n",
              "      <td>-0.420768</td>\n",
              "      <td>-0.080931</td>\n",
              "      <td>-1.108744</td>\n",
              "      <td>0.316392</td>\n",
              "    </tr>\n",
              "    <tr>\n",
              "      <th>7</th>\n",
              "      <td>0.447855</td>\n",
              "      <td>-0.936712</td>\n",
              "      <td>0.008726</td>\n",
              "      <td>-0.882924</td>\n",
              "    </tr>\n",
              "    <tr>\n",
              "      <th>8</th>\n",
              "      <td>-1.963901</td>\n",
              "      <td>0.371978</td>\n",
              "      <td>1.084877</td>\n",
              "      <td>1.104974</td>\n",
              "    </tr>\n",
              "    <tr>\n",
              "      <th>9</th>\n",
              "      <td>0.486969</td>\n",
              "      <td>0.506272</td>\n",
              "      <td>-0.969708</td>\n",
              "      <td>-2.050190</td>\n",
              "    </tr>\n",
              "  </tbody>\n",
              "</table>\n",
              "</div>"
            ],
            "text/plain": [
              "          a         b         c         d\n",
              "0  0.491140  0.081829 -0.565545 -1.851094\n",
              "1 -0.709218  0.160917  0.125136  0.556121\n",
              "2 -1.341324  0.828684  0.673263  0.131569\n",
              "3  1.221927  0.339438 -1.317098  0.052887\n",
              "4 -0.115626  0.404398 -1.084968 -0.586258\n",
              "5  0.694943 -1.718703 -1.151380 -0.168828\n",
              "6 -0.420768 -0.080931 -1.108744  0.316392\n",
              "7  0.447855 -0.936712  0.008726 -0.882924\n",
              "8 -1.963901  0.371978  1.084877  1.104974\n",
              "9  0.486969  0.506272 -0.969708 -2.050190"
            ]
          },
          "metadata": {
            "tags": []
          },
          "execution_count": 2
        }
      ]
    },
    {
      "cell_type": "code",
      "metadata": {
        "colab": {
          "base_uri": "https://localhost:8080/",
          "height": 621
        },
        "id": "J5tqSJrEWuUs",
        "outputId": "6d5a1005-b254-4607-9348-105afc7efcab"
      },
      "source": [
        "df.plot(kind='bar',title='Bar Chart',figsize=(10,10),grid=True,legend = True)"
      ],
      "execution_count": 3,
      "outputs": [
        {
          "output_type": "execute_result",
          "data": {
            "text/plain": [
              "<matplotlib.axes._subplots.AxesSubplot at 0x7fde2361ef90>"
            ]
          },
          "metadata": {
            "tags": []
          },
          "execution_count": 3
        },
        {
          "output_type": "display_data",
          "data": {
            "image/png": "[encoded data removed]",
            "text/plain": [
              "<Figure size 720x720 with 1 Axes>"
            ]
          },
          "metadata": {
            "tags": [],
            "needs_background": "light"
          }
        }
      ]
    },
    {
      "cell_type": "code",
      "metadata": {
        "id": "52KJvdYQWx6o"
      },
      "source": [
        ""
      ],
      "execution_count": null,
      "outputs": []
    }
  ]
}